Please review the other file

{
  "cells": [
    {
      "cell_type": "code",
      "execution_count": 29,
      "metadata": {
        "colab": {
          "base_uri": "https://localhost:8080/"
        },
        "id": "h84Bu2-z5fGs",
        "outputId": "c0a49d3e-6d84-4b55-eb28-fc82fe71e796"
      },
      "outputs": [
        {
          "output_type": "stream",
          "name": "stdout",
          "text": [
            "On a response status of 200 print to the console a hmac sha256 encoded version of the body\n",
            "732f2c36cf93b2c4704326904d72a7595c60dec164a7cee3dcc9da144ddf8853\n",
            "Bad Request\n",
            "\n",
            "<!doctype html>\n",
            "<html lang=\"en\">\n",
            "<head>\n",
            "  <title>Not Found</title>\n",
            "</head>\n",
            "<body>\n",
            "  <h1>Not Found</h1><p>The requested resource was not found on this server.</p>\n",
            "</body>\n",
            "</html>\n",
            "\n",
            "404\n"
          ]
        }
      ],
      "source": [
        "import requests\n",
        "import hmac\n",
        "import hashlib\n",
        "import base64\n",
        "import binascii\n",
        "\n",
        "\n",
        "data = {\n",
        "    'Client ID':'1',\n",
        "    'Media URL':'https://studios.sapphireapps.com/ct/q1 ',\n",
        "    'Timestamp' : 'current time',\n",
        "    'Description' : \"hello this is test\"\n",
        "    }\n",
        "res = requests.post('https://studios.sapphireapps.com/ct/q1,',data = data)\n",
        "\n",
        "data1 =  'Client ID: 1, Media URL: https://studios.sapphireapps.com/ct/q1,  Timestamp : current time,  Description : hello this is test'\n",
        "\n",
        "if res.status_code == 200:\n",
        "\n",
        " hashed_data = hashlib.sha256(data1.encode('utf-8')).hexdigest()\n",
        "print(\"On a response status of 200 print to the console a hmac sha256 encoded version of the body\")\n",
        "print(hashed_data)\n",
        "\n",
        "if res.status_code != 200:\n",
        " print(\"Bad Request\")\n",
        "\n",
        "print(res.text)\n",
        "print(res.status_code) \n"
      ]
    }
  ],
  "metadata": {
    "colab": {
      "name": "Task1.ipynb",
      "provenance": [],
      "collapsed_sections": []
    },
    "kernelspec": {
      "display_name": "Python 3",
      "name": "python3"
    },
    "language_info": {
      "name": "python"
    }
  },
  "nbformat": 4,
  "nbformat_minor": 0
}
